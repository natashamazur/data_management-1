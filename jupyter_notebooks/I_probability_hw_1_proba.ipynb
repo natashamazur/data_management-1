{
  "nbformat": 4,
  "nbformat_minor": 0,
  "metadata": {
    "kernelspec": {
      "display_name": "Python 3",
      "language": "python",
      "name": "python3"
    },
    "language_info": {
      "codemirror_mode": {
        "name": "ipython",
        "version": 3
      },
      "file_extension": ".py",
      "mimetype": "text/x-python",
      "name": "python",
      "nbconvert_exporter": "python",
      "pygments_lexer": "ipython3",
      "version": "3.6.9"
    },
    "colab": {
      "name": "Копия блокнота \"I_probability_hw_1_proba.ipynb\"",
      "provenance": [],
      "collapsed_sections": [],
      "toc_visible": true
    }
  },
  "cells": [
    {
      "cell_type": "markdown",
      "metadata": {
        "id": "OVoRAZFERTnQ"
      },
      "source": [
        "# HW1 Простые задачи на теорию вероятностей\n",
        "\n",
        "Решать задачи по терверу можно с помощью книжки [Теория вероятностей и математическая статистика : Базовый курс с примерами и задачами: учебное пособие Кибзун А.](https://biblioclub.ru/index.php?page=book&id=69320)\n",
        "\n",
        "## Задача 1\n",
        "\n",
        "Определить вероятность того, что случайно выбранный студент девочка. В группе 10 студентов, из которых 2 девочки"
      ]
    },
    {
      "cell_type": "code",
      "metadata": {
        "id": "xPPCxbS-RTnV",
        "colab": {
          "base_uri": "https://localhost:8080/"
        },
        "outputId": "8392ace5-06ff-4a57-892f-8d15c58f353c"
      },
      "source": [
        "import math\n",
        "# событие А: случайно выбранный студент - девочка\n",
        "# число случаев\n",
        "n = 10\n",
        "# число благоприятных исходов m: 2\n",
        "m = 2\n",
        "\n",
        "def task_1(num_students, num_girls):\n",
        "    # вычисляем вероятность\n",
        "    proba = num_girls / num_students\n",
        "    return proba\n",
        "\n",
        "proba = task_1(num_students=n, num_girls=m)\n",
        "print(f\"задача 1: P(A) = {proba:.2f}\")"
      ],
      "execution_count": 1,
      "outputs": [
        {
          "output_type": "stream",
          "text": [
            "задача 1: P(A) = 0.20\n"
          ],
          "name": "stdout"
        }
      ]
    },
    {
      "cell_type": "code",
      "metadata": {
        "id": "73QhawfiRTnW",
        "colab": {
          "base_uri": "https://localhost:8080/"
        },
        "outputId": "9010be8a-0c6a-4dc7-f83f-6dee5da2bda2"
      },
      "source": [
        "import unittest\n",
        "\n",
        "class TestNotebook(unittest.TestCase):\n",
        "    def test_task(self):\n",
        "        self.assertEqual(task_1(num_students=10, num_girls=2), 0.2)\n",
        "\n",
        "unittest.main(argv=[''], verbosity=2, exit=False)"
      ],
      "execution_count": 2,
      "outputs": [
        {
          "output_type": "stream",
          "text": [
            "test_task (__main__.TestNotebook) ... ok\n",
            "\n",
            "----------------------------------------------------------------------\n",
            "Ran 1 test in 0.004s\n",
            "\n",
            "OK\n"
          ],
          "name": "stderr"
        },
        {
          "output_type": "execute_result",
          "data": {
            "text/plain": [
              "<unittest.main.TestProgram at 0x7f94f4580fd0>"
            ]
          },
          "metadata": {
            "tags": []
          },
          "execution_count": 2
        }
      ]
    },
    {
      "cell_type": "markdown",
      "metadata": {
        "id": "e33SrISLRTnX"
      },
      "source": [
        "## Задача 2\n",
        "\n",
        "В отеле 20 номеров, из которых 12 выходят на море. В гостиницу заселяются 12 девочек и 8 мальчиков. Ключи с видом на море выдают в начале. Какова вероятность события, что все девочки будут жить в номерах с видом на море"
      ]
    },
    {
      "cell_type": "code",
      "metadata": {
        "id": "iiqBtH12RTnX",
        "colab": {
          "base_uri": "https://localhost:8080/"
        },
        "outputId": "0b944aec-6142-492e-f5ca-9b8b4d411e6d"
      },
      "source": [
        "def task_2(sea_rooms, num_boys, num_girls):\n",
        "    # число случаев\n",
        "    n = math.factorial(num_boys + num_girls)\n",
        "    # число благоприятных исходов m\n",
        "    m = math.factorial(sea_rooms)*math.factorial(num_boys)\n",
        "    # вычисляем вероятность\n",
        "    proba = m / n\n",
        "    return proba\n",
        "\n",
        "# событие А: последовательность людей, где первые 8 - девочки\n",
        "proba = task_2(sea_rooms=12, num_boys=8, num_girls=12)\n",
        "\n",
        "print(f\"задача 1: P(A) = {proba:.10f}\")"
      ],
      "execution_count": 3,
      "outputs": [
        {
          "output_type": "stream",
          "text": [
            "задача 1: P(A) = 0.0000079384\n"
          ],
          "name": "stdout"
        }
      ]
    },
    {
      "cell_type": "code",
      "metadata": {
        "id": "8XC9y5vuRTnX",
        "colab": {
          "base_uri": "https://localhost:8080/"
        },
        "outputId": "3940f312-f59d-438d-e7a9-993a945b5765"
      },
      "source": [
        "import unittest\n",
        "\n",
        "\n",
        "class TestNotebook(unittest.TestCase):\n",
        "    def test_task(self):\n",
        "        self.assertAlmostEqual(task_2(sea_rooms=12, num_boys=8, num_girls=12), 0.0000079384, places=11)\n",
        "\n",
        "unittest.main(argv=[''], verbosity=2, exit=False)"
      ],
      "execution_count": 4,
      "outputs": [
        {
          "output_type": "stream",
          "text": [
            "test_task (__main__.TestNotebook) ... ok\n",
            "\n",
            "----------------------------------------------------------------------\n",
            "Ran 1 test in 0.003s\n",
            "\n",
            "OK\n"
          ],
          "name": "stderr"
        },
        {
          "output_type": "execute_result",
          "data": {
            "text/plain": [
              "<unittest.main.TestProgram at 0x7f94f4505190>"
            ]
          },
          "metadata": {
            "tags": []
          },
          "execution_count": 4
        }
      ]
    },
    {
      "cell_type": "markdown",
      "metadata": {
        "id": "HZsvsoPsRTnY"
      },
      "source": [
        "## Задача 3\n",
        "\n",
        "На полке стоят три тома. Найти вероятность того, что книги стоят в верном порядке."
      ]
    },
    {
      "cell_type": "code",
      "metadata": {
        "id": "gzEAD2-YRTnY",
        "colab": {
          "base_uri": "https://localhost:8080/"
        },
        "outputId": "c9da8fde-c4b8-4f8d-9ccc-94f3b12cf58c"
      },
      "source": [
        "import math\n",
        "\n",
        "def task_3():\n",
        "    # общее число случаев\n",
        "    n = math.factorial(3)\n",
        "    # число благоприятных исходов m \n",
        "    # либо либо порядок томов (1-2-3), либо (3-2-1)\n",
        "    m = 2\n",
        "    # вычисляем вероятность\n",
        "    proba = m / n\n",
        "    return proba\n",
        "\n",
        "# событие А: тома не перемешаны\n",
        "proba = task_3()\n",
        "\n",
        "print(f\"задача 1: P(A) = {proba:.3f}\")"
      ],
      "execution_count": 5,
      "outputs": [
        {
          "output_type": "stream",
          "text": [
            "задача 1: P(A) = 0.333\n"
          ],
          "name": "stdout"
        }
      ]
    },
    {
      "cell_type": "code",
      "metadata": {
        "id": "hiPSwnHHRTnY",
        "colab": {
          "base_uri": "https://localhost:8080/"
        },
        "outputId": "92847447-212d-4ae4-c12f-a768ec5ce536"
      },
      "source": [
        "import unittest\n",
        "\n",
        "\n",
        "class TestNotebook(unittest.TestCase):\n",
        "    def test_task(self):\n",
        "        self.assertAlmostEqual(task_3(), 0.333, places=3)\n",
        "\n",
        "unittest.main(argv=[''], verbosity=2, exit=False)"
      ],
      "execution_count": 6,
      "outputs": [
        {
          "output_type": "stream",
          "text": [
            "test_task (__main__.TestNotebook) ... ok\n",
            "\n",
            "----------------------------------------------------------------------\n",
            "Ran 1 test in 0.002s\n",
            "\n",
            "OK\n"
          ],
          "name": "stderr"
        },
        {
          "output_type": "execute_result",
          "data": {
            "text/plain": [
              "<unittest.main.TestProgram at 0x7f94f4510390>"
            ]
          },
          "metadata": {
            "tags": []
          },
          "execution_count": 6
        }
      ]
    },
    {
      "cell_type": "markdown",
      "metadata": {
        "id": "wGdDzhB3RTnY"
      },
      "source": [
        "## Задача 4\n",
        "\n",
        "Бросают две монеты. Что более вероятно - что монеты выпадут одноимёнными сторонами, или разноимёнными."
      ]
    },
    {
      "cell_type": "code",
      "metadata": {
        "id": "a3AjxEaxRTnZ",
        "colab": {
          "base_uri": "https://localhost:8080/"
        },
        "outputId": "340dc039-7f7c-4d3f-fd84-8cb18c307850"
      },
      "source": [
        "def task_4_same():\n",
        "    \"\"\"Вероятность того, что выпадут одноименными сторонами\"\"\"\n",
        "    m = 2 # РР или ОО\n",
        "    n = 4\n",
        "    return m/n\n",
        "\n",
        "def task_4_opposite():\n",
        "    \"\"\"Вероятность того, что выпадут разноименными сторонами\"\"\"\n",
        "    m = 2 # РО или ОР\n",
        "    n = 4\n",
        "    return m/n\n",
        "\n",
        "print(f'Одноимённые {task_4_same()} Разноимённые {task_4_opposite()}')"
      ],
      "execution_count": 7,
      "outputs": [
        {
          "output_type": "stream",
          "text": [
            "Одноимённые 0.5 Разноимённые 0.5\n"
          ],
          "name": "stdout"
        }
      ]
    },
    {
      "cell_type": "code",
      "metadata": {
        "id": "5cW-GCWyRTnZ",
        "colab": {
          "base_uri": "https://localhost:8080/"
        },
        "outputId": "33d1e612-7696-490c-fc3a-8680f2145b5b"
      },
      "source": [
        "import unittest\n",
        "\n",
        "\n",
        "class TestNotebook(unittest.TestCase):\n",
        "    def test_task(self):\n",
        "        self.assertEqual(task_4_opposite(), task_4_same())\n",
        "\n",
        "unittest.main(argv=[''], verbosity=2, exit=False)"
      ],
      "execution_count": 8,
      "outputs": [
        {
          "output_type": "stream",
          "text": [
            "test_task (__main__.TestNotebook) ... ok\n",
            "\n",
            "----------------------------------------------------------------------\n",
            "Ran 1 test in 0.001s\n",
            "\n",
            "OK\n"
          ],
          "name": "stderr"
        },
        {
          "output_type": "execute_result",
          "data": {
            "text/plain": [
              "<unittest.main.TestProgram at 0x7f94f4505290>"
            ]
          },
          "metadata": {
            "tags": []
          },
          "execution_count": 8
        }
      ]
    },
    {
      "cell_type": "markdown",
      "metadata": {
        "id": "IfMC-5NrRTnZ"
      },
      "source": [
        "## Задача 5\n",
        "\n",
        "На столе лежат 100 карточек числами от $1$ до $100$. Какова вероятность, что наугад выбранная карта содержит \n",
        "1. 0 \n",
        "1. 5"
      ]
    },
    {
      "cell_type": "code",
      "metadata": {
        "id": "3kYkX5X_RTnZ",
        "colab": {
          "base_uri": "https://localhost:8080/"
        },
        "outputId": "dc713a21-3daf-4426-a789-e93838c2312f"
      },
      "source": [
        "def task_5_1():\n",
        "    \"\"\"Оличество карточек, в которых присутствует цифра ноль\"\"\"\n",
        "    m = 10\n",
        "    n = 100\n",
        "    return m/n\n",
        "\n",
        "def task_5_2():\n",
        "    \"\"\"Оличество карточек, в которых присутствует цифра пять\"\"\"\n",
        "    m = 19\n",
        "    n = 100\n",
        "    return m/n\n",
        "\n",
        "\n",
        "proba = task_5_1()\n",
        "print(f'p={proba:.2f}')\n",
        "\n",
        "proba = task_5_2()\n",
        "print(f'p={proba:.2f}')"
      ],
      "execution_count": 9,
      "outputs": [
        {
          "output_type": "stream",
          "text": [
            "p=0.10\n",
            "p=0.19\n"
          ],
          "name": "stdout"
        }
      ]
    },
    {
      "cell_type": "code",
      "metadata": {
        "id": "0g0hQi12RTna",
        "colab": {
          "base_uri": "https://localhost:8080/"
        },
        "outputId": "c9be5b88-64a8-488a-db25-3bd71a9ef464"
      },
      "source": [
        "import unittest\n",
        "\n",
        "\n",
        "class TestNotebook(unittest.TestCase):\n",
        "    def test_task(self):\n",
        "        self.assertAlmostEqual(task_5_1(), 0.1, places=3)\n",
        "        self.assertAlmostEqual(task_5_2(), 0.19, places=3)\n",
        "\n",
        "unittest.main(argv=[''], verbosity=2, exit=False)"
      ],
      "execution_count": 10,
      "outputs": [
        {
          "output_type": "stream",
          "text": [
            "test_task (__main__.TestNotebook) ... ok\n",
            "\n",
            "----------------------------------------------------------------------\n",
            "Ran 1 test in 0.001s\n",
            "\n",
            "OK\n"
          ],
          "name": "stderr"
        },
        {
          "output_type": "execute_result",
          "data": {
            "text/plain": [
              "<unittest.main.TestProgram at 0x7f94f4528f90>"
            ]
          },
          "metadata": {
            "tags": []
          },
          "execution_count": 10
        }
      ]
    },
    {
      "cell_type": "markdown",
      "metadata": {
        "id": "sm7d9eNeRTna"
      },
      "source": [
        "## Задача 6\n",
        "\n",
        "На столе лежат три письма и три конверта. Какова вероятность, что по адресу попадут\n",
        "1. Ни одно\n",
        "1. Ровно одно\n",
        "1. Ровно два"
      ]
    },
    {
      "cell_type": "code",
      "metadata": {
        "id": "iusOqK8aRTna",
        "colab": {
          "base_uri": "https://localhost:8080/"
        },
        "outputId": "12095612-17ca-4b92-e9b9-f75a74772989"
      },
      "source": [
        "# ---- ВАШ КОД ТУТ ---\n",
        "\n",
        "def task_6_1():\n",
        "    # только 2\n",
        "    m = 2\n",
        "    n = math.factorial(3)\n",
        "    return m/n\n",
        "\n",
        "def task_6_2():\n",
        "    # только 3\n",
        "    m = 3\n",
        "    n = math.factorial(3)\n",
        "    return m/n\n",
        "\n",
        "def task_6_3():\n",
        "    # опасный момент\n",
        "    m = 0\n",
        "    n = math.factorial(3)\n",
        "    return m/n\n",
        "\n",
        "# --------------------\n",
        "\n",
        "proba = task_6_1()\n",
        "print(f'p={proba:.3f}')\n",
        "\n",
        "proba = task_6_2()\n",
        "print(f'p={proba:.3f}')\n",
        "\n",
        "proba = task_6_3()\n",
        "print(f'p={proba:.3f}')"
      ],
      "execution_count": 11,
      "outputs": [
        {
          "output_type": "stream",
          "text": [
            "p=0.333\n",
            "p=0.500\n",
            "p=0.000\n"
          ],
          "name": "stdout"
        }
      ]
    },
    {
      "cell_type": "code",
      "metadata": {
        "id": "tGRmI1iaRTna",
        "colab": {
          "base_uri": "https://localhost:8080/"
        },
        "outputId": "9b5e50dc-5c7e-48fe-eddd-0ed351d70950"
      },
      "source": [
        "import unittest\n",
        "\n",
        "\n",
        "class TestNotebook(unittest.TestCase):\n",
        "    def test_task(self):\n",
        "        self.assertAlmostEqual(task_6_1(), 0.333, places=3)\n",
        "        self.assertAlmostEqual(task_6_2(), 0.500, places=3)\n",
        "        self.assertAlmostEqual(task_6_3(), 0.000, places=3)\n",
        "\n",
        "unittest.main(argv=[''], verbosity=2, exit=False)"
      ],
      "execution_count": 12,
      "outputs": [
        {
          "output_type": "stream",
          "text": [
            "test_task (__main__.TestNotebook) ... ok\n",
            "\n",
            "----------------------------------------------------------------------\n",
            "Ran 1 test in 0.001s\n",
            "\n",
            "OK\n"
          ],
          "name": "stderr"
        },
        {
          "output_type": "execute_result",
          "data": {
            "text/plain": [
              "<unittest.main.TestProgram at 0x7f94f4528990>"
            ]
          },
          "metadata": {
            "tags": []
          },
          "execution_count": 12
        }
      ]
    },
    {
      "cell_type": "markdown",
      "metadata": {
        "id": "bEaSMe09RTnb"
      },
      "source": [
        "## Задача 7\n",
        "\n",
        "Из карточек {1,2,3,4,5} собирают 5-ти значное число. Найти вероятность того, что число чётное (размещения)"
      ]
    },
    {
      "cell_type": "code",
      "metadata": {
        "id": "O1ImDA-gRTnb",
        "colab": {
          "base_uri": "https://localhost:8080/"
        },
        "outputId": "4b480ab7-798d-4ee2-e5d6-f88830f27018"
      },
      "source": [
        "# ---- ВАШ КОД ТУТ ---\n",
        "\n",
        "def task_7():\n",
        "    # в чётном числе в конце либо 2 либо 4\n",
        "    m = math.factorial(4) * 2\n",
        "    # сколько поледовательностей можно составить?\n",
        "    n = math.factorial(5)\n",
        "    return m/n\n",
        "\n",
        "\n",
        "# --------------------\n",
        "\n",
        "proba = task_7()\n",
        "print(f'p={proba:.2f}')\n"
      ],
      "execution_count": 13,
      "outputs": [
        {
          "output_type": "stream",
          "text": [
            "p=0.40\n"
          ],
          "name": "stdout"
        }
      ]
    },
    {
      "cell_type": "code",
      "metadata": {
        "id": "Rb2KNtkNRTnb",
        "colab": {
          "base_uri": "https://localhost:8080/"
        },
        "outputId": "5dfae5db-8737-44a9-9439-1c3f1abee8bc"
      },
      "source": [
        "import unittest\n",
        "\n",
        "\n",
        "class TestNotebook(unittest.TestCase):\n",
        "    def test_task(self):\n",
        "        self.assertAlmostEqual(task_7(), 0.4, places=2)\n",
        "\n",
        "unittest.main(argv=[''], verbosity=2, exit=False)"
      ],
      "execution_count": 14,
      "outputs": [
        {
          "output_type": "stream",
          "text": [
            "test_task (__main__.TestNotebook) ... ok\n",
            "\n",
            "----------------------------------------------------------------------\n",
            "Ran 1 test in 0.002s\n",
            "\n",
            "OK\n"
          ],
          "name": "stderr"
        },
        {
          "output_type": "execute_result",
          "data": {
            "text/plain": [
              "<unittest.main.TestProgram at 0x7f94f44b2cd0>"
            ]
          },
          "metadata": {
            "tags": []
          },
          "execution_count": 14
        }
      ]
    },
    {
      "cell_type": "markdown",
      "metadata": {
        "id": "DpEQINQdRTnb"
      },
      "source": [
        "## Задача 8\n",
        "\n",
        "На стол бросают (по одной) три игральные кости. Найти вероятность того, что все цифры будут разными (размещение с повторением)"
      ]
    },
    {
      "cell_type": "code",
      "metadata": {
        "id": "LwRK5x-fRTnb",
        "colab": {
          "base_uri": "https://localhost:8080/"
        },
        "outputId": "4030695a-4adb-4b89-d7a7-baae91f91ae8"
      },
      "source": [
        "# ---- ВАШ КОД ТУТ ---\n",
        "\n",
        "def razm(n, m):\n",
        "    return math.factorial(n) / math.factorial(n-m)\n",
        "\n",
        "def task_8():\n",
        "    # размешения из 6 цифр по 3 позициям\n",
        "    m = razm(6,3)\n",
        "    n = math.pow(6,3)\n",
        "    return m/n\n",
        "\n",
        "\n",
        "# --------------------\n",
        "\n",
        "proba = task_8()\n",
        "print(f'p={proba:.2f}')\n"
      ],
      "execution_count": 15,
      "outputs": [
        {
          "output_type": "stream",
          "text": [
            "p=0.56\n"
          ],
          "name": "stdout"
        }
      ]
    },
    {
      "cell_type": "code",
      "metadata": {
        "id": "GjheIeEERTnb",
        "colab": {
          "base_uri": "https://localhost:8080/"
        },
        "outputId": "48ed861b-e0a8-46d5-955d-cbffdd65a6e6"
      },
      "source": [
        "import unittest\n",
        "\n",
        "\n",
        "class TestNotebook(unittest.TestCase):\n",
        "    def test_task(self):\n",
        "        self.assertAlmostEqual(task_8(), 0.556, places=2)\n",
        "\n",
        "unittest.main(argv=[''], verbosity=2, exit=False)"
      ],
      "execution_count": 16,
      "outputs": [
        {
          "output_type": "stream",
          "text": [
            "test_task (__main__.TestNotebook) ... ok\n",
            "\n",
            "----------------------------------------------------------------------\n",
            "Ran 1 test in 0.003s\n",
            "\n",
            "OK\n"
          ],
          "name": "stderr"
        },
        {
          "output_type": "execute_result",
          "data": {
            "text/plain": [
              "<unittest.main.TestProgram at 0x7f94f4510e90>"
            ]
          },
          "metadata": {
            "tags": []
          },
          "execution_count": 16
        }
      ]
    },
    {
      "cell_type": "markdown",
      "metadata": {
        "id": "gpnc3TM_RTnc"
      },
      "source": [
        "## Задача 9\n",
        "\n",
        "В пачке M&M's 5 красных, 8 жёлтых и 20 синих драже. Из пачки выпало 3 штуки. Найти вероятность того, что все они красные (сочетание)"
      ]
    },
    {
      "cell_type": "code",
      "metadata": {
        "id": "uKHQqyloRTnc",
        "colab": {
          "base_uri": "https://localhost:8080/"
        },
        "outputId": "22272be6-56a8-4c2f-e9bb-874b9581bdf0"
      },
      "source": [
        "# ---- ВАШ КОД ТУТ ---\n",
        "\n",
        "def soch(n, k):\n",
        "  return math.factorial(n) / (math.factorial(k) * math.factorial(n-k))\n",
        "\n",
        "def task_9():\n",
        "    m = soch(5, 3)\n",
        "    n = soch(20+8+5, 3)\n",
        "    return m/n\n",
        "\n",
        "\n",
        "# --------------------\n",
        "\n",
        "proba = task_9()\n",
        "print(f'p={proba:.5f}')"
      ],
      "execution_count": 17,
      "outputs": [
        {
          "output_type": "stream",
          "text": [
            "p=0.00183\n"
          ],
          "name": "stdout"
        }
      ]
    },
    {
      "cell_type": "code",
      "metadata": {
        "id": "JG_ywykmRTnc",
        "colab": {
          "base_uri": "https://localhost:8080/"
        },
        "outputId": "046c6007-63c0-4f11-9db5-4f474aeba83d"
      },
      "source": [
        "import unittest\n",
        "\n",
        "\n",
        "class TestNotebook(unittest.TestCase):\n",
        "    def test_task(self):\n",
        "        self.assertAlmostEqual(task_9(), 0.00183, places=5)\n",
        "\n",
        "unittest.main(argv=[''], verbosity=2, exit=False)"
      ],
      "execution_count": 18,
      "outputs": [
        {
          "output_type": "stream",
          "text": [
            "test_task (__main__.TestNotebook) ... ok\n",
            "\n",
            "----------------------------------------------------------------------\n",
            "Ran 1 test in 0.002s\n",
            "\n",
            "OK\n"
          ],
          "name": "stderr"
        },
        {
          "output_type": "execute_result",
          "data": {
            "text/plain": [
              "<unittest.main.TestProgram at 0x7f94f451ab90>"
            ]
          },
          "metadata": {
            "tags": []
          },
          "execution_count": 18
        }
      ]
    },
    {
      "cell_type": "markdown",
      "metadata": {
        "id": "zfaH_4FlRTnc"
      },
      "source": [
        "## Задача 10\n",
        "\n",
        "В лотерее 6 выигрышных билетов из 49-ти. Наугад берут 6 билетов. Какова вероятность того, что \n",
        "\n",
        "1. среди них будет ровно три выигрышных? \n",
        "1. хотя бы один выигрышный?"
      ]
    },
    {
      "cell_type": "code",
      "metadata": {
        "id": "oMYfzMuBRTnc",
        "colab": {
          "base_uri": "https://localhost:8080/"
        },
        "outputId": "39a4af60-4ee0-410a-cebb-3d797559cba4"
      },
      "source": [
        "# ---- ВАШ КОД ТУТ ---\n",
        "\n",
        "# общее количество возможных случаев не меняется - его можно сразу посчитать\n",
        "\n",
        "def task_10_1():\n",
        "    m = soch(6,3) * soch(43,3)\n",
        "    n = soch(49, 6)\n",
        "    return m/n\n",
        "\n",
        "\n",
        "def task_10_2():\n",
        "    # тут пойти от обратного - найти вероятность того, что ни один не выирышный\n",
        "    m = soch(49, 6) - soch(43,6)\n",
        "    n = soch(49, 6)\n",
        "    return m/n\n",
        "\n",
        "\n",
        "# --------------------\n",
        "\n",
        "proba = task_10_1()\n",
        "print(f'p={proba:.8f}')\n",
        "\n",
        "proba = task_10_2()\n",
        "print(f'p={proba:.8f}')"
      ],
      "execution_count": 19,
      "outputs": [
        {
          "output_type": "stream",
          "text": [
            "p=0.01765040\n",
            "p=0.56403502\n"
          ],
          "name": "stdout"
        }
      ]
    },
    {
      "cell_type": "code",
      "metadata": {
        "id": "DrlK1axbRTnc",
        "colab": {
          "base_uri": "https://localhost:8080/"
        },
        "outputId": "698f47f3-43cb-4c0d-fa84-6086cc1eb475"
      },
      "source": [
        "import unittest\n",
        "\n",
        "\n",
        "class TestNotebook(unittest.TestCase):\n",
        "    def test_task(self):\n",
        "        self.assertAlmostEqual(task_10_1(), 0.01765040, places=8)\n",
        "        self.assertAlmostEqual(task_10_2(), 0.56403502, places=8)\n",
        "\n",
        "unittest.main(argv=[''], verbosity=2, exit=False)"
      ],
      "execution_count": 20,
      "outputs": [
        {
          "output_type": "stream",
          "text": [
            "test_task (__main__.TestNotebook) ... ok\n",
            "\n",
            "----------------------------------------------------------------------\n",
            "Ran 1 test in 0.002s\n",
            "\n",
            "OK\n"
          ],
          "name": "stderr"
        },
        {
          "output_type": "execute_result",
          "data": {
            "text/plain": [
              "<unittest.main.TestProgram at 0x7f94f44b2a10>"
            ]
          },
          "metadata": {
            "tags": []
          },
          "execution_count": 20
        }
      ]
    },
    {
      "cell_type": "markdown",
      "metadata": {
        "id": "uMfU3WSZRTnd"
      },
      "source": [
        "## Задача 11\n",
        "\n",
        "В урне 10 белых и 5 чёрных шаров. Потеряли 2 шара. Наугад извлекают три шара и все они белые. Найти вероятность того, что обы утерянных шара чёрные (условная вероятность)."
      ]
    },
    {
      "cell_type": "code",
      "metadata": {
        "id": "ro8ehS8qRTnd",
        "colab": {
          "base_uri": "https://localhost:8080/"
        },
        "outputId": "3798a3ca-5fd3-4a4a-94d2-dcfd983cee89"
      },
      "source": [
        "# ---- ВАШ КОД ТУТ ---\n",
        "\n",
        "\n",
        "def task_11():\n",
        "  # p_e_h = p_h_e * p_e / p_h\n",
        "  # p_h - 3 white \n",
        "  # p_e - 2 black out\n",
        "  # p_h_e - 3 white but 2 black lost\n",
        "    p_h = soch(10, 3) / soch(15, 3)\n",
        "    p_e = soch(5, 2) / soch(15, 2)\n",
        "    p_h_e = soch(10, 3) / soch(13, 3)\n",
        "    return p_h_e * p_e / p_h\n",
        "\n",
        "\n",
        "# --------------------\n",
        "\n",
        "proba = task_11()\n",
        "print(f'p={proba:.3f}')"
      ],
      "execution_count": 21,
      "outputs": [
        {
          "output_type": "stream",
          "text": [
            "p=0.152\n"
          ],
          "name": "stdout"
        }
      ]
    },
    {
      "cell_type": "code",
      "metadata": {
        "id": "INy_AV40RTnd",
        "colab": {
          "base_uri": "https://localhost:8080/"
        },
        "outputId": "062cc000-15de-46fd-fd58-8c032b9d83fd"
      },
      "source": [
        "import unittest\n",
        "\n",
        "\n",
        "class TestNotebook(unittest.TestCase):\n",
        "    def test_task(self):\n",
        "        self.assertAlmostEqual(task_11(), 0.152, places=3)\n",
        "\n",
        "unittest.main(argv=[''], verbosity=2, exit=False)"
      ],
      "execution_count": 22,
      "outputs": [
        {
          "output_type": "stream",
          "text": [
            "test_task (__main__.TestNotebook) ... ok\n",
            "\n",
            "----------------------------------------------------------------------\n",
            "Ran 1 test in 0.004s\n",
            "\n",
            "OK\n"
          ],
          "name": "stderr"
        },
        {
          "output_type": "execute_result",
          "data": {
            "text/plain": [
              "<unittest.main.TestProgram at 0x7f94f44d1150>"
            ]
          },
          "metadata": {
            "tags": []
          },
          "execution_count": 22
        }
      ]
    },
    {
      "cell_type": "markdown",
      "metadata": {
        "id": "CHejDSWLRTne"
      },
      "source": [
        "## Задача 12\n",
        "\n",
        "В связке 20 ключей, нужно открыть одну дверь. Найти вероятность того, что до успеха придётся перебрать ровно половину"
      ]
    },
    {
      "cell_type": "code",
      "metadata": {
        "id": "rvjdqAKURTne",
        "colab": {
          "base_uri": "https://localhost:8080/"
        },
        "outputId": "124ef573-93c1-4bf2-b8da-4ea3fbfa0cbc"
      },
      "source": [
        "# ---- ВАШ КОД ТУТ ---\n",
        "\n",
        "\n",
        "def task_12():\n",
        "    # 10 неудачных попыток и 1 удачная \n",
        "    return 19/20 * 18/19 * 17/18 * 16/17 * 15/16 * 14/15 * 13/14 * 12/13 * 11/12 * 1/10\n",
        "\n",
        "# --------------------\n",
        "\n",
        "proba = task_12()\n",
        "print(f'p={proba:.2f}')"
      ],
      "execution_count": 23,
      "outputs": [
        {
          "output_type": "stream",
          "text": [
            "p=0.05\n"
          ],
          "name": "stdout"
        }
      ]
    },
    {
      "cell_type": "code",
      "metadata": {
        "id": "CnDDuMW5RTne",
        "colab": {
          "base_uri": "https://localhost:8080/"
        },
        "outputId": "7faaeb14-c2aa-43ef-d7d7-db96066618c5"
      },
      "source": [
        "import unittest\n",
        "\n",
        "\n",
        "class TestNotebook(unittest.TestCase):\n",
        "    def test_task(self):\n",
        "        self.assertAlmostEqual(task_12(), 0.05, places=2)\n",
        "\n",
        "unittest.main(argv=[''], verbosity=2, exit=False)"
      ],
      "execution_count": 24,
      "outputs": [
        {
          "output_type": "stream",
          "text": [
            "test_task (__main__.TestNotebook) ... ok\n",
            "\n",
            "----------------------------------------------------------------------\n",
            "Ran 1 test in 0.001s\n",
            "\n",
            "OK\n"
          ],
          "name": "stderr"
        },
        {
          "output_type": "execute_result",
          "data": {
            "text/plain": [
              "<unittest.main.TestProgram at 0x7f94f44c6710>"
            ]
          },
          "metadata": {
            "tags": []
          },
          "execution_count": 24
        }
      ]
    },
    {
      "cell_type": "markdown",
      "metadata": {
        "id": "DEak_SyyRTne"
      },
      "source": [
        "## Задача 13\n",
        "\n",
        "На стол выкладывают карточки аз набора {А, А, А, Н, Н, С}. Найти вероятность того, что получится слово *АНАНАС*"
      ]
    },
    {
      "cell_type": "code",
      "metadata": {
        "id": "RPjQfKjDRTne",
        "colab": {
          "base_uri": "https://localhost:8080/"
        },
        "outputId": "06fe7b80-30ec-4695-eba0-b64e697e4b76"
      },
      "source": [
        "# ---- ВАШ КОД ТУТ ---\n",
        "\n",
        "\n",
        "def task_13():\n",
        "    return 3/6 * 2/5 * 2/4 * 1/3 * 1/2 * 1;\n",
        "\n",
        "\n",
        "# --------------------\n",
        "\n",
        "proba = task_13()\n",
        "print(f'p={proba:.3f}')"
      ],
      "execution_count": 25,
      "outputs": [
        {
          "output_type": "stream",
          "text": [
            "p=0.017\n"
          ],
          "name": "stdout"
        }
      ]
    },
    {
      "cell_type": "code",
      "metadata": {
        "id": "1LmQ9JkDRTne",
        "colab": {
          "base_uri": "https://localhost:8080/"
        },
        "outputId": "d67a9c92-1ea1-44fe-c501-1e740110f814"
      },
      "source": [
        "import unittest\n",
        "\n",
        "\n",
        "class TestNotebook(unittest.TestCase):\n",
        "    def test_task(self):\n",
        "        self.assertAlmostEqual(task_13(), 0.017, places=3)\n",
        "\n",
        "unittest.main(argv=[''], verbosity=2, exit=False)"
      ],
      "execution_count": 26,
      "outputs": [
        {
          "output_type": "stream",
          "text": [
            "test_task (__main__.TestNotebook) ... ok\n",
            "\n",
            "----------------------------------------------------------------------\n",
            "Ran 1 test in 0.001s\n",
            "\n",
            "OK\n"
          ],
          "name": "stderr"
        },
        {
          "output_type": "execute_result",
          "data": {
            "text/plain": [
              "<unittest.main.TestProgram at 0x7f94f45286d0>"
            ]
          },
          "metadata": {
            "tags": []
          },
          "execution_count": 26
        }
      ]
    },
    {
      "cell_type": "markdown",
      "metadata": {
        "id": "IR1T6phFRTne"
      },
      "source": [
        "## Задача 14\n",
        "\n",
        "В баре 30 мест, 5 человек бронируют места. Найти вероятность того, что все места будут разными."
      ]
    },
    {
      "cell_type": "code",
      "metadata": {
        "id": "BXjjlsfwRTnf",
        "colab": {
          "base_uri": "https://localhost:8080/"
        },
        "outputId": "0a000ddc-7e88-45ca-cb91-abce7fd1260a"
      },
      "source": [
        "# ---- ВАШ КОД ТУТ ---\n",
        "\n",
        "\n",
        "def task_14():\n",
        "    # return 30/30 * 29/30 * 28/30 * 27/30 * 26/30 - такой же результат как и ниже\n",
        "    m = razm (30,5)\n",
        "    n = math.pow(30, 5)\n",
        "    return m/n\n",
        "\n",
        "# --------------------\n",
        "\n",
        "proba = task_14()\n",
        "print(f'p={proba:.9f}')"
      ],
      "execution_count": 27,
      "outputs": [
        {
          "output_type": "stream",
          "text": [
            "p=0.703733333\n"
          ],
          "name": "stdout"
        }
      ]
    },
    {
      "cell_type": "code",
      "metadata": {
        "id": "XpqWAlZjRTnf",
        "colab": {
          "base_uri": "https://localhost:8080/"
        },
        "outputId": "3364488e-32d4-420f-95cf-4d062bbb766f"
      },
      "source": [
        "import unittest\n",
        "\n",
        "\n",
        "class TestNotebook(unittest.TestCase):\n",
        "    def test_task(self):\n",
        "        self.assertAlmostEqual(task_14(), 0.703733333, places=9)\n",
        "\n",
        "unittest.main(argv=[''], verbosity=2, exit=False)"
      ],
      "execution_count": 28,
      "outputs": [
        {
          "output_type": "stream",
          "text": [
            "test_task (__main__.TestNotebook) ... ok\n",
            "\n",
            "----------------------------------------------------------------------\n",
            "Ran 1 test in 0.002s\n",
            "\n",
            "OK\n"
          ],
          "name": "stderr"
        },
        {
          "output_type": "execute_result",
          "data": {
            "text/plain": [
              "<unittest.main.TestProgram at 0x7f94f44e5ad0>"
            ]
          },
          "metadata": {
            "tags": []
          },
          "execution_count": 28
        }
      ]
    },
    {
      "cell_type": "markdown",
      "metadata": {
        "id": "TS1UVzAKRTnf"
      },
      "source": [
        "## Задача 15\n",
        "\n",
        "В корзине  6 белых, 5 синих и 4 красных. Шары извлекают по одному без возвращения до появления красного шара. Найти вероятность того, что придётся извлечь не менее 4-х шаров."
      ]
    },
    {
      "cell_type": "code",
      "metadata": {
        "id": "NR8kXzg-RTnf",
        "colab": {
          "base_uri": "https://localhost:8080/"
        },
        "outputId": "54f150e1-efd9-442e-b667-d42dde9b31c3"
      },
      "source": [
        "# ---- ВАШ КОД ТУТ ---\n",
        "\n",
        "\n",
        "def task_15():\n",
        "\n",
        "  # 2 non red balls\n",
        "  p_b = 11/15 * 10/14 * 4/13\n",
        "  # 1 non red ball\n",
        "  p_c = 11/15 * 4/14\n",
        "  # 0 non red ball\n",
        "  p_d = 4/15\n",
        "\n",
        "  p_e = 1 - ( p_b + p_c + p_d)\n",
        "\n",
        "  return p_e\n",
        "\n",
        "\n",
        "\n",
        "# --------------------\n",
        "\n",
        "proba = task_15()\n",
        "print(f'p={proba:.3f}')"
      ],
      "execution_count": 29,
      "outputs": [
        {
          "output_type": "stream",
          "text": [
            "p=0.363\n"
          ],
          "name": "stdout"
        }
      ]
    },
    {
      "cell_type": "code",
      "metadata": {
        "id": "j-0Yxm58RTnf",
        "colab": {
          "base_uri": "https://localhost:8080/"
        },
        "outputId": "d5143955-96d5-461d-fc99-34c074f973ac"
      },
      "source": [
        "import unittest\n",
        "\n",
        "\n",
        "class TestNotebook(unittest.TestCase):\n",
        "    def test_task(self):\n",
        "        self.assertAlmostEqual(task_15(), 0.363, places=3)\n",
        "\n",
        "unittest.main(argv=[''], verbosity=2, exit=False)"
      ],
      "execution_count": 30,
      "outputs": [
        {
          "output_type": "stream",
          "text": [
            "test_task (__main__.TestNotebook) ... ok\n",
            "\n",
            "----------------------------------------------------------------------\n",
            "Ran 1 test in 0.003s\n",
            "\n",
            "OK\n"
          ],
          "name": "stderr"
        },
        {
          "output_type": "execute_result",
          "data": {
            "text/plain": [
              "<unittest.main.TestProgram at 0x7f94f44c39d0>"
            ]
          },
          "metadata": {
            "tags": []
          },
          "execution_count": 30
        }
      ]
    },
    {
      "cell_type": "markdown",
      "metadata": {
        "id": "j-DPj-VzRTng"
      },
      "source": [
        "## Задача 16\n",
        "\n",
        "Две ладьи (белая и чёрная) ставятся на доску наугад. Что более вероятно \n",
        "\n",
        "* (а) будут друг друга бить или\n",
        "* (б) не будут."
      ]
    },
    {
      "cell_type": "code",
      "metadata": {
        "id": "u2sGLUhQRTng",
        "colab": {
          "base_uri": "https://localhost:8080/"
        },
        "outputId": "830a49ba-3e4e-4bb7-bf3c-0dd776e47741"
      },
      "source": [
        "# ---- ВАШ КОД ТУТ ---\n",
        "\n",
        "\n",
        "def task_16_1():\n",
        "    return 1 - task_16_2()\n",
        "\n",
        "\n",
        "def task_16_2():\n",
        "    m = 64*(63-14)\n",
        "    n = 64*63\n",
        "    return m/n\n",
        "\n",
        "# --------------------\n",
        "\n",
        "proba = task_16_1()\n",
        "print(f'p={proba:.3f}')\n",
        "\n",
        "proba = task_16_2()\n",
        "print(f'p={proba:.3f}')"
      ],
      "execution_count": 31,
      "outputs": [
        {
          "output_type": "stream",
          "text": [
            "p=0.222\n",
            "p=0.778\n"
          ],
          "name": "stdout"
        }
      ]
    },
    {
      "cell_type": "code",
      "metadata": {
        "id": "1pIp5WxeRTng",
        "colab": {
          "base_uri": "https://localhost:8080/"
        },
        "outputId": "6075e39c-5a96-410f-8a53-889c3b775a35"
      },
      "source": [
        "import unittest\n",
        "\n",
        "\n",
        "class TestNotebook(unittest.TestCase):\n",
        "    def test_task(self):\n",
        "        self.assertAlmostEqual(task_16_1(), 0.222, places=3)\n",
        "        self.assertAlmostEqual(task_16_2(), 0.778, places=3)\n",
        "\n",
        "unittest.main(argv=[''], verbosity=2, exit=False)"
      ],
      "execution_count": 32,
      "outputs": [
        {
          "output_type": "stream",
          "text": [
            "test_task (__main__.TestNotebook) ... ok\n",
            "\n",
            "----------------------------------------------------------------------\n",
            "Ran 1 test in 0.002s\n",
            "\n",
            "OK\n"
          ],
          "name": "stderr"
        },
        {
          "output_type": "execute_result",
          "data": {
            "text/plain": [
              "<unittest.main.TestProgram at 0x7f94f446f990>"
            ]
          },
          "metadata": {
            "tags": []
          },
          "execution_count": 32
        }
      ]
    },
    {
      "cell_type": "markdown",
      "metadata": {
        "id": "B7DIMrqZRTng"
      },
      "source": [
        "## Задача 17\n",
        "\n",
        "Рассчитать вероятность «счастливого билета».\n",
        "\n",
        "Цифр в номере шесть. Счастливым считается билет, сумма первых трех цифр которого совпадает с суммой оставшихся."
      ]
    },
    {
      "cell_type": "code",
      "metadata": {
        "id": "eKofA_UqRTng",
        "colab": {
          "base_uri": "https://localhost:8080/"
        },
        "outputId": "5eadd564-c81c-428b-b89c-a8dc881e9d0f"
      },
      "source": [
        "# ---- ВАШ КОД ТУТ ---\n",
        "\n",
        "\n",
        "def task_17():\n",
        "    m = soch(32,5) - soch(6,1) * soch(22,5) + soch(6,2) * soch(12,5)\n",
        "    n = math.pow(10,6)\n",
        "    return m/n\n",
        "\n",
        "\n",
        "# --------------------\n",
        "\n",
        "proba = task_17()\n",
        "print(f'p={proba:.3f}')"
      ],
      "execution_count": 33,
      "outputs": [
        {
          "output_type": "stream",
          "text": [
            "p=0.055\n"
          ],
          "name": "stdout"
        }
      ]
    },
    {
      "cell_type": "code",
      "metadata": {
        "id": "LMkR6ytORTng",
        "colab": {
          "base_uri": "https://localhost:8080/"
        },
        "outputId": "801b5a2a-a58c-4c5b-cdee-4e07bc60383b"
      },
      "source": [
        "import unittest\n",
        "\n",
        "\n",
        "class TestNotebook(unittest.TestCase):\n",
        "    def test_task(self):\n",
        "        self.assertAlmostEqual(task_17(), 0.055, places=4)\n",
        "\n",
        "unittest.main(argv=[''], verbosity=2, exit=False)"
      ],
      "execution_count": 34,
      "outputs": [
        {
          "output_type": "stream",
          "text": [
            "test_task (__main__.TestNotebook) ... FAIL\n",
            "\n",
            "======================================================================\n",
            "FAIL: test_task (__main__.TestNotebook)\n",
            "----------------------------------------------------------------------\n",
            "Traceback (most recent call last):\n",
            "  File \"<ipython-input-34-a725fa356cfa>\", line 6, in test_task\n",
            "    self.assertAlmostEqual(task_17(), 0.055, places=4)\n",
            "AssertionError: 0.055252 != 0.055 within 4 places (0.0002520000000000022 difference)\n",
            "\n",
            "----------------------------------------------------------------------\n",
            "Ran 1 test in 0.001s\n",
            "\n",
            "FAILED (failures=1)\n"
          ],
          "name": "stderr"
        },
        {
          "output_type": "execute_result",
          "data": {
            "text/plain": [
              "<unittest.main.TestProgram at 0x7f94f44d13d0>"
            ]
          },
          "metadata": {
            "tags": []
          },
          "execution_count": 34
        }
      ]
    },
    {
      "cell_type": "markdown",
      "metadata": {
        "id": "T_6_ziaFRTng"
      },
      "source": [
        "### Проверка домашек"
      ]
    },
    {
      "cell_type": "code",
      "metadata": {
        "id": "UmhP5c3qRTng",
        "colab": {
          "base_uri": "https://localhost:8080/"
        },
        "outputId": "d6a588cc-ed79-4919-8943-a3c5202b73b7"
      },
      "source": [
        "import unittest\n",
        "\n",
        "\n",
        "class TestNotebook(unittest.TestCase):\n",
        "    def test_task(self):\n",
        "        self.assertEqual(task_1(num_students=10, num_girls=2), 0.2)\n",
        "        self.assertAlmostEqual(task_2(sea_rooms=12, num_boys=8, num_girls=12), 0.0000079384, places=11)\n",
        "        self.assertAlmostEqual(task_3(), 0.333, places=3)\n",
        "        self.assertEqual(task_4_opposite(), task_4_same())\n",
        "        self.assertAlmostEqual(task_6_1(), 0.333, places=3)\n",
        "        self.assertAlmostEqual(task_6_2(), 0.5, places=3)\n",
        "        self.assertAlmostEqual(task_6_3(), 0, places=3)\n",
        "        self.assertAlmostEqual(task_7(), 0.4, places=2)\n",
        "        self.assertAlmostEqual(task_8(), 0.556, places=3)\n",
        "        self.assertAlmostEqual(task_9(), 0.00183, places=5)\n",
        "        self.assertAlmostEqual(task_10_1(), 0.01765040, places=8)\n",
        "        self.assertAlmostEqual(task_10_2(), 0.56403502, places=8)\n",
        "        self.assertAlmostEqual(task_11(), 0.152, places=3)\n",
        "        self.assertAlmostEqual(task_12(), 0.05, places=2)\n",
        "        self.assertAlmostEqual(task_13(), 0.017, places=3)\n",
        "        self.assertAlmostEqual(task_14(), 0.703733333, places=9)\n",
        "        self.assertAlmostEqual(task_15(), 0.363, places=3)\n",
        "        self.assertAlmostEqual(task_16_1(), 0.222, places=3)\n",
        "        self.assertAlmostEqual(task_16_2(), 0.778, places=3)\n",
        "        self.assertAlmostEqual(task_17(), 0.055, places=3)\n",
        "\n",
        "unittest.main(argv=[''], verbosity=2, exit=False)"
      ],
      "execution_count": 35,
      "outputs": [
        {
          "output_type": "stream",
          "text": [
            "test_task (__main__.TestNotebook) ... ok\n",
            "\n",
            "----------------------------------------------------------------------\n",
            "Ran 1 test in 0.002s\n",
            "\n",
            "OK\n"
          ],
          "name": "stderr"
        },
        {
          "output_type": "execute_result",
          "data": {
            "text/plain": [
              "<unittest.main.TestProgram at 0x7f94f446f250>"
            ]
          },
          "metadata": {
            "tags": []
          },
          "execution_count": 35
        }
      ]
    },
    {
      "cell_type": "markdown",
      "metadata": {
        "id": "auO30umHRTnh"
      },
      "source": [
        "# HW2: формулы вычисления вероятностей"
      ]
    },
    {
      "cell_type": "markdown",
      "metadata": {
        "id": "WDc20_v8RTnh"
      },
      "source": [
        "## Задача 18\n",
        "\n",
        "На ресурсе 30% пользователей iOS, На Android конверсия в покупку фильма 0.05, на iOS 0.08. Пользователь совершает покупку. Найти вероятность, что это пользователь Android."
      ]
    },
    {
      "cell_type": "code",
      "metadata": {
        "id": "r5TVkSrPRTnh",
        "colab": {
          "base_uri": "https://localhost:8080/"
        },
        "outputId": "f19eb240-94e8-4002-e742-90cb3052db6f"
      },
      "source": [
        "# ---- ВАШ КОД ТУТ ---\n",
        "\n",
        "def usl(p_b_a, p_a, p_b):\n",
        "  return p_b_a * p_a / p_b\n",
        "\n",
        "def task_18():\n",
        "    # подсказка - использовать формулу полной вероятности\n",
        "    # выделить гипотезы\n",
        "    # h1 - пользователь айос\n",
        "    p_h1 = 0.3\n",
        "    # h2 - пользователь андроида\n",
        "    p_h2 = 0.7\n",
        "    # а - пользователь купил\n",
        "    p_a_h1 = 0.08\n",
        "    p_a_h2 = 0.05\n",
        "    # полная вероятность события а\n",
        "    p_a = 0.3 * 0.08 + 0.7 * 0.05\n",
        "    # p_h2_a ?\n",
        "    p_h2_a = p_a_h2 * p_h2 / p_a\n",
        "    return p_h2_a\n",
        "\n",
        "\n",
        "# --------------------\n",
        "\n",
        "proba = task_18()\n",
        "print(f'p={proba:.3f}')"
      ],
      "execution_count": 36,
      "outputs": [
        {
          "output_type": "stream",
          "text": [
            "p=0.593\n"
          ],
          "name": "stdout"
        }
      ]
    },
    {
      "cell_type": "code",
      "metadata": {
        "id": "GNAhM2nDRTnh",
        "colab": {
          "base_uri": "https://localhost:8080/"
        },
        "outputId": "3cdb6f59-5882-4cbd-8f43-9b1506dffd02"
      },
      "source": [
        "import unittest\n",
        "\n",
        "\n",
        "class TestNotebook(unittest.TestCase):\n",
        "    def test_task(self):\n",
        "        self.assertAlmostEqual(task_18(), 0.593, places=3)\n",
        "\n",
        "unittest.main(argv=[''], verbosity=2, exit=False)"
      ],
      "execution_count": 37,
      "outputs": [
        {
          "output_type": "stream",
          "text": [
            "test_task (__main__.TestNotebook) ... ok\n",
            "\n",
            "----------------------------------------------------------------------\n",
            "Ran 1 test in 0.002s\n",
            "\n",
            "OK\n"
          ],
          "name": "stderr"
        },
        {
          "output_type": "execute_result",
          "data": {
            "text/plain": [
              "<unittest.main.TestProgram at 0x7f94f447be10>"
            ]
          },
          "metadata": {
            "tags": []
          },
          "execution_count": 37
        }
      ]
    },
    {
      "cell_type": "markdown",
      "metadata": {
        "id": "GpiL0iFQRTnh"
      },
      "source": [
        "## Задача 19\n",
        "\n",
        "Вероятность встретить частицу в течение минуты $p$. Какова вероятность встретить хотя бы одну частицу в течение 30 минут?"
      ]
    },
    {
      "cell_type": "code",
      "metadata": {
        "id": "vchbB0qVRTnh",
        "colab": {
          "base_uri": "https://localhost:8080/"
        },
        "outputId": "1a0b533c-6c06-4f90-bae0-378178b6e19b"
      },
      "source": [
        "# ---- ВАШ КОД ТУТ ---\n",
        "\n",
        "\n",
        "def task_19(p):\n",
        "    # подсказка - найти вероятность \"обратного\" события\n",
        "    return 1 - math.pow((1 - p), 30)\n",
        "     \n",
        "# --------------------\n",
        "\n",
        "proba = task_19(0.05)\n",
        "print(f'p={proba:.6f}')"
      ],
      "execution_count": 38,
      "outputs": [
        {
          "output_type": "stream",
          "text": [
            "p=0.785361\n"
          ],
          "name": "stdout"
        }
      ]
    },
    {
      "cell_type": "code",
      "metadata": {
        "id": "PsfyJJKmRTnh",
        "colab": {
          "base_uri": "https://localhost:8080/"
        },
        "outputId": "01f96a61-a826-4b2c-83eb-c01dc518c605"
      },
      "source": [
        "import unittest\n",
        "\n",
        "\n",
        "class TestNotebook(unittest.TestCase):\n",
        "    def test_task(self):\n",
        "        self.assertAlmostEqual(task_19(0.05), 0.78536, places=6)\n",
        "\n",
        "unittest.main(argv=[''], verbosity=2, exit=False)"
      ],
      "execution_count": 39,
      "outputs": [
        {
          "output_type": "stream",
          "text": [
            "test_task (__main__.TestNotebook) ... FAIL\n",
            "\n",
            "======================================================================\n",
            "FAIL: test_task (__main__.TestNotebook)\n",
            "----------------------------------------------------------------------\n",
            "Traceback (most recent call last):\n",
            "  File \"<ipython-input-39-1925b660b4b7>\", line 6, in test_task\n",
            "    self.assertAlmostEqual(task_19(0.05), 0.78536, places=6)\n",
            "AssertionError: 0.7853612360570628 != 0.78536 within 6 places (1.2360570628144885e-06 difference)\n",
            "\n",
            "----------------------------------------------------------------------\n",
            "Ran 1 test in 0.003s\n",
            "\n",
            "FAILED (failures=1)\n"
          ],
          "name": "stderr"
        },
        {
          "output_type": "execute_result",
          "data": {
            "text/plain": [
              "<unittest.main.TestProgram at 0x7f94f4497910>"
            ]
          },
          "metadata": {
            "tags": []
          },
          "execution_count": 39
        }
      ]
    },
    {
      "cell_type": "markdown",
      "metadata": {
        "id": "e6o7RwnGRTni"
      },
      "source": [
        "## Задача 20\n",
        "\n",
        "Тест на болезнь имеет вероятность ошибки 0.1 (как позитивной, так и негативной). Достоверно известно, что болеет 10% населения. Какая вероятность того, что человек болен, если у него позитивный результат теста?"
      ]
    },
    {
      "cell_type": "code",
      "metadata": {
        "id": "g_0MSk9WRTni",
        "colab": {
          "base_uri": "https://localhost:8080/"
        },
        "outputId": "8fa8f970-0a48-492e-f04c-1609a4933df4"
      },
      "source": [
        "# ---- ВАШ КОД ТУТ ---\n",
        "\n",
        "\n",
        "def task_20():\n",
        "    # подсказка - использовать формулу Байеса\n",
        "    # p_a = болен\n",
        "    p_a = 0.1\n",
        "    # p_b = верный результат и больному и здоровому (болен и результат верный ИЛИ здоров и результат ложный)\n",
        "    p_b = 0.1*0.9 + 0.9*0.1\n",
        "    # p_b_a = положительный результат если болен (то есть даст верный результат больному человек)\n",
        "    p_b_a = 0.9\n",
        "    return p_b_a * p_a / p_b\n",
        "\n",
        "\n",
        "# --------------------\n",
        "\n",
        "proba = task_20()\n",
        "print(f'p={proba:.2f}')"
      ],
      "execution_count": 40,
      "outputs": [
        {
          "output_type": "stream",
          "text": [
            "p=0.50\n"
          ],
          "name": "stdout"
        }
      ]
    },
    {
      "cell_type": "code",
      "metadata": {
        "id": "80sRIG7LRTni",
        "colab": {
          "base_uri": "https://localhost:8080/"
        },
        "outputId": "d06bd4e6-eb9f-4847-c9cb-6a2003f9bd70"
      },
      "source": [
        "import unittest\n",
        "\n",
        "\n",
        "class TestNotebook(unittest.TestCase):\n",
        "    def test_task(self):\n",
        "        self.assertAlmostEqual(task_20(), 0.5, places=2)\n",
        "\n",
        "unittest.main(argv=[''], verbosity=2, exit=False)"
      ],
      "execution_count": 41,
      "outputs": [
        {
          "output_type": "stream",
          "text": [
            "test_task (__main__.TestNotebook) ... ok\n",
            "\n",
            "----------------------------------------------------------------------\n",
            "Ran 1 test in 0.003s\n",
            "\n",
            "OK\n"
          ],
          "name": "stderr"
        },
        {
          "output_type": "execute_result",
          "data": {
            "text/plain": [
              "<unittest.main.TestProgram at 0x7f94f4497e10>"
            ]
          },
          "metadata": {
            "tags": []
          },
          "execution_count": 41
        }
      ]
    },
    {
      "cell_type": "markdown",
      "metadata": {
        "id": "q09C8TLgRTni"
      },
      "source": [
        "## Задача 21\n",
        "\n",
        "Что вероятнее с равносильным противником - выиграть 3 партии из 4-х, или 5 из 8-ми?(схема Бернулли)"
      ]
    },
    {
      "cell_type": "code",
      "metadata": {
        "id": "gbcysBjvRTni",
        "colab": {
          "base_uri": "https://localhost:8080/"
        },
        "outputId": "bce4f6ec-da05-4411-af72-3cdbac24f92d"
      },
      "source": [
        "from scipy.stats import binom\n",
        "\n",
        "# ---- ВАШ КОД ТУТ ---\n",
        "\n",
        "\n",
        "def task_21_1():\n",
        "    k = 3\n",
        "    n = 4\n",
        "    p = 1/2\n",
        "    # биномиально распределённая СВ\n",
        "    rv = binom(n, p)\n",
        "    # вероятность заданного числа успехов\n",
        "    return rv.pmf(k)\n",
        "\n",
        "\n",
        "def task_21_2():\n",
        "    k = 3\n",
        "    n = 8\n",
        "    p = 1/2\n",
        "    # биномиально распределённая СВ\n",
        "    rv = binom(n, p)\n",
        "    # вероятность заданного числа успехов\n",
        "    return rv.pmf(k)\n",
        "\n",
        "def task_21_3():\n",
        "    k = 3\n",
        "    n = 5\n",
        "    p = 1/2\n",
        "    # биномиально распределённая СВ\n",
        "    rv = binom(n, p)\n",
        "    # вероятность заданного числа успехов\n",
        "    return rv.pmf(k)\n",
        "\n",
        "\n",
        "# --------------------\n",
        "\n",
        "proba1 = task_21_1()\n",
        "\n",
        "proba2 = task_21_2()\n",
        "\n",
        "proba3 = task_21_3()\n",
        "\n",
        "print(f'proba1={proba1:.5f}')\n",
        "print(f'proba2={proba2:.5f}')\n",
        "print(f'proba3={proba3:.5f}')"
      ],
      "execution_count": 42,
      "outputs": [
        {
          "output_type": "stream",
          "text": [
            "proba1=0.25000\n",
            "proba2=0.21875\n",
            "proba3=0.31250\n"
          ],
          "name": "stdout"
        }
      ]
    },
    {
      "cell_type": "code",
      "metadata": {
        "id": "EXhhVJZlRTni",
        "colab": {
          "base_uri": "https://localhost:8080/"
        },
        "outputId": "fac84de4-c86b-4429-f4fa-7136eb9b97e3"
      },
      "source": [
        "import unittest\n",
        "\n",
        "\n",
        "class TestNotebook(unittest.TestCase):\n",
        "    def test_task(self):\n",
        "        self.assertAlmostEqual(task_21_1(), 0.25, places=2)\n",
        "        self.assertAlmostEqual(task_21_2(), 0.21875, places=5)\n",
        "\n",
        "unittest.main(argv=[''], verbosity=2, exit=False)"
      ],
      "execution_count": 43,
      "outputs": [
        {
          "output_type": "stream",
          "text": [
            "test_task (__main__.TestNotebook) ... ok\n",
            "\n",
            "----------------------------------------------------------------------\n",
            "Ran 1 test in 0.005s\n",
            "\n",
            "OK\n"
          ],
          "name": "stderr"
        },
        {
          "output_type": "execute_result",
          "data": {
            "text/plain": [
              "<unittest.main.TestProgram at 0x7f94f44a5390>"
            ]
          },
          "metadata": {
            "tags": []
          },
          "execution_count": 43
        }
      ]
    },
    {
      "cell_type": "markdown",
      "metadata": {
        "id": "ZAN5OUNZRTni"
      },
      "source": [
        "## Задача 22\n",
        "\n",
        "Каждый 10-й договор страховой компании завершается выплатой. Компания заключила 5 договоров. Найти вероятность того, что случится хотя бы случится хотя бы один случай. (схема Бернулли)"
      ]
    },
    {
      "cell_type": "code",
      "metadata": {
        "id": "4q0HRhGYRTni",
        "colab": {
          "base_uri": "https://localhost:8080/"
        },
        "outputId": "c20a2e02-658a-48c7-b809-3b4a85761d29"
      },
      "source": [
        "# ---- ВАШ КОД ТУТ ---\n",
        "\n",
        "\n",
        "def task_22():\n",
        "    p = 1/10\n",
        "    n=5\n",
        "    rv = binom(n,p)\n",
        "    return rv.pmf(1) + rv.pmf(2) + rv.pmf(3) + rv.pmf(4) + rv.pmf(5)\n",
        "\n",
        "\n",
        "# --------------------\n",
        "\n",
        "proba = task_22()\n",
        "print(f'p={proba:.5f}')"
      ],
      "execution_count": 44,
      "outputs": [
        {
          "output_type": "stream",
          "text": [
            "p=0.40951\n"
          ],
          "name": "stdout"
        }
      ]
    },
    {
      "cell_type": "code",
      "metadata": {
        "id": "qtBISMs-RTnj",
        "colab": {
          "base_uri": "https://localhost:8080/"
        },
        "outputId": "30af1dc8-1f6c-48cd-cbce-8080fc5471be"
      },
      "source": [
        "import unittest\n",
        "\n",
        "\n",
        "class TestNotebook(unittest.TestCase):\n",
        "    def test_task(self):\n",
        "        self.assertAlmostEqual(task_22(), 0.40951, places=5)\n",
        "\n",
        "unittest.main(argv=[''], verbosity=2, exit=False)"
      ],
      "execution_count": 45,
      "outputs": [
        {
          "output_type": "stream",
          "text": [
            "test_task (__main__.TestNotebook) ... ok\n",
            "\n",
            "----------------------------------------------------------------------\n",
            "Ran 1 test in 0.005s\n",
            "\n",
            "OK\n"
          ],
          "name": "stderr"
        },
        {
          "output_type": "execute_result",
          "data": {
            "text/plain": [
              "<unittest.main.TestProgram at 0x7f94f4441690>"
            ]
          },
          "metadata": {
            "tags": []
          },
          "execution_count": 45
        }
      ]
    },
    {
      "cell_type": "markdown",
      "metadata": {
        "id": "b70BDmNjRTnj"
      },
      "source": [
        "## Задача 23\n",
        "\n",
        "В урне 10 белых, 8 синих и 2 красных шара, извлекают 3 шара. Найти вероятность того, что шары будут одного цвета (сложение вероятностей)"
      ]
    },
    {
      "cell_type": "code",
      "metadata": {
        "id": "Aubf18B0RTnj",
        "colab": {
          "base_uri": "https://localhost:8080/"
        },
        "outputId": "2d9cdee6-6bce-47c9-cea3-c48f1de71e92"
      },
      "source": [
        "# ---- ВАШ КОД ТУТ ---\n",
        "\n",
        "\n",
        "def task_23():\n",
        "    # всего 20\n",
        "    n = 3\n",
        "    p = 10/20 * 9/19 * 8/18 + 8/20 * 7/19 * 6/18\n",
        "    return p\n",
        "\n",
        "print(task_23())\n",
        "\n",
        "# --------------------"
      ],
      "execution_count": 46,
      "outputs": [
        {
          "output_type": "stream",
          "text": [
            "0.1543859649122807\n"
          ],
          "name": "stdout"
        }
      ]
    },
    {
      "cell_type": "code",
      "metadata": {
        "id": "xOgCKzxSRTnj",
        "colab": {
          "base_uri": "https://localhost:8080/"
        },
        "outputId": "3fd130f7-5ee9-45e1-eccf-ff0ba362cc6a"
      },
      "source": [
        "import unittest\n",
        "\n",
        "\n",
        "class TestNotebook(unittest.TestCase):\n",
        "    def test_task(self):\n",
        "        self.assertAlmostEqual(task_23(), 0.15, places=2)\n",
        "\n",
        "unittest.main(argv=[''], verbosity=2, exit=False)"
      ],
      "execution_count": 47,
      "outputs": [
        {
          "output_type": "stream",
          "text": [
            "test_task (__main__.TestNotebook) ... ok\n",
            "\n",
            "----------------------------------------------------------------------\n",
            "Ran 1 test in 0.001s\n",
            "\n",
            "OK\n"
          ],
          "name": "stderr"
        },
        {
          "output_type": "execute_result",
          "data": {
            "text/plain": [
              "<unittest.main.TestProgram at 0x7f94e6345c50>"
            ]
          },
          "metadata": {
            "tags": []
          },
          "execution_count": 47
        }
      ]
    },
    {
      "cell_type": "markdown",
      "metadata": {
        "id": "AoFHQnYWRTnj"
      },
      "source": [
        "## Задача 24\n",
        "\n",
        "Телефон находится в одной из комнат с вероятностью 0.5, 0.6, 0.7. Найти вероятность того, что телефон будет найден, если пройтись по всем комнатам. (произведение вероятностей)"
      ]
    },
    {
      "cell_type": "code",
      "metadata": {
        "id": "K52so-2-RTnj",
        "colab": {
          "base_uri": "https://localhost:8080/"
        },
        "outputId": "567f035a-2b30-4960-ba94-bd6524f498f2"
      },
      "source": [
        "# ---- ВАШ КОД ТУТ ---\n",
        "\n",
        "\n",
        "def task_24():\n",
        "    p1 = 0.5\n",
        "    p2 = 0.6\n",
        "    p3 = 0.7\n",
        "    # посчитать через вероятность обратного события - что телефон не будет найден\n",
        "    q = 0.5*0.4*0.3\n",
        "    return 1-q\n",
        "\n",
        "\n",
        "# --------------------\n",
        "\n",
        "\n",
        "proba = task_24()\n",
        "print(f'p={proba:.2f}')"
      ],
      "execution_count": 48,
      "outputs": [
        {
          "output_type": "stream",
          "text": [
            "p=0.94\n"
          ],
          "name": "stdout"
        }
      ]
    },
    {
      "cell_type": "code",
      "metadata": {
        "id": "dAM9o4nYRTnj",
        "colab": {
          "base_uri": "https://localhost:8080/"
        },
        "outputId": "1dd52542-fa28-4bb4-cd4c-3ff7d5bcb631"
      },
      "source": [
        "import unittest\n",
        "\n",
        "\n",
        "class TestNotebook(unittest.TestCase):\n",
        "    def test_task(self):\n",
        "        self.assertAlmostEqual(task_24(), 0.94, places=2)\n",
        "\n",
        "unittest.main(argv=[''], verbosity=2, exit=False)"
      ],
      "execution_count": 49,
      "outputs": [
        {
          "output_type": "stream",
          "text": [
            "test_task (__main__.TestNotebook) ... ok\n",
            "\n",
            "----------------------------------------------------------------------\n",
            "Ran 1 test in 0.002s\n",
            "\n",
            "OK\n"
          ],
          "name": "stderr"
        },
        {
          "output_type": "execute_result",
          "data": {
            "text/plain": [
              "<unittest.main.TestProgram at 0x7f94e6320950>"
            ]
          },
          "metadata": {
            "tags": []
          },
          "execution_count": 49
        }
      ]
    },
    {
      "cell_type": "markdown",
      "metadata": {
        "id": "SZngeAUZRTnk"
      },
      "source": [
        "### Проверка домашек"
      ]
    },
    {
      "cell_type": "code",
      "metadata": {
        "id": "m2IlsnfwRTnk",
        "colab": {
          "base_uri": "https://localhost:8080/"
        },
        "outputId": "f2d0ad9a-ad6f-4236-d6da-7f5df630198f"
      },
      "source": [
        "import unittest\n",
        "\n",
        "\n",
        "class TestNotebook(unittest.TestCase):\n",
        "    def test_task(self):\n",
        "        self.assertAlmostEqual(task_18(), 0.593, places=3)\n",
        "        self.assertAlmostEqual(task_19(0.05), 0.785361, places=6)\n",
        "        self.assertAlmostEqual(task_20(), 0.5, places=2)\n",
        "        self.assertAlmostEqual(task_21_1(), 0.25, places=2)\n",
        "        self.assertAlmostEqual(task_21_2(), 0.21875, places=5)\n",
        "        self.assertAlmostEqual(task_22(), 0.40951, places=5)\n",
        "        self.assertAlmostEqual(task_23(), 0.15, places=2)\n",
        "        self.assertAlmostEqual(task_24(), 0.94, places=2)\n",
        "        \n",
        "\n",
        "unittest.main(argv=[''], verbosity=2, exit=False)"
      ],
      "execution_count": 50,
      "outputs": [
        {
          "output_type": "stream",
          "text": [
            "test_task (__main__.TestNotebook) ... ok\n",
            "\n",
            "----------------------------------------------------------------------\n",
            "Ran 1 test in 0.008s\n",
            "\n",
            "OK\n"
          ],
          "name": "stderr"
        },
        {
          "output_type": "execute_result",
          "data": {
            "text/plain": [
              "<unittest.main.TestProgram at 0x7f94e62d4110>"
            ]
          },
          "metadata": {
            "tags": []
          },
          "execution_count": 50
        }
      ]
    },
    {
      "cell_type": "markdown",
      "metadata": {
        "id": "GSYB0Rd5RTnk"
      },
      "source": [
        "# HW3: случайные величины\n",
        "\n",
        "## Задача 25\n",
        "\n",
        "Каждый день аналитик Сидоров идет на работу. По пути от метро он должен перейти две дороги со светофорами. Один светофор горит красным 60 секунд, зеленым 15 секунд. Второй — 100 секунд красным и 30 секунд зеленым.\n",
        "\n",
        "Вопрос: сколько секунд аналитик Сидоров в среднем тратит на ожидание перед светофором по пути на работу?"
      ]
    },
    {
      "cell_type": "code",
      "metadata": {
        "id": "evv261E0RTnk",
        "colab": {
          "base_uri": "https://localhost:8080/"
        },
        "outputId": "a456a2c4-b511-4ec2-805f-43b0197759c2"
      },
      "source": [
        "# ---- ВАШ КОД ТУТ ---\n",
        "\n",
        "def task_25():\n",
        "    # простоит на первом светофоре\n",
        "    p1 = 60/75 \n",
        "    # простоит на втором\n",
        "    p2 = 100/130\n",
        "    # всего времени\n",
        "    t = ( p1*60 + p2*100 ) / 2\n",
        "    return t\n",
        "\n",
        "print(task_25())\n",
        "\n",
        "# --------------------\n",
        "\n"
      ],
      "execution_count": 51,
      "outputs": [
        {
          "output_type": "stream",
          "text": [
            "62.46153846153847\n"
          ],
          "name": "stdout"
        }
      ]
    },
    {
      "cell_type": "code",
      "metadata": {
        "id": "W8wP4uUHRTnk",
        "colab": {
          "base_uri": "https://localhost:8080/"
        },
        "outputId": "1ebcb79a-7d0a-4bae-85ce-c3fa69c05535"
      },
      "source": [
        "import unittest\n",
        "\n",
        "\n",
        "class TestNotebook(unittest.TestCase):\n",
        "    def test_task(self):\n",
        "        self.assertAlmostEqual(task_25(), 62.46, places=2)\n",
        "\n",
        "unittest.main(argv=[''], verbosity=2, exit=False)"
      ],
      "execution_count": 52,
      "outputs": [
        {
          "output_type": "stream",
          "text": [
            "test_task (__main__.TestNotebook) ... ok\n",
            "\n",
            "----------------------------------------------------------------------\n",
            "Ran 1 test in 0.002s\n",
            "\n",
            "OK\n"
          ],
          "name": "stderr"
        },
        {
          "output_type": "execute_result",
          "data": {
            "text/plain": [
              "<unittest.main.TestProgram at 0x7f94f44ae710>"
            ]
          },
          "metadata": {
            "tags": []
          },
          "execution_count": 52
        }
      ]
    },
    {
      "cell_type": "markdown",
      "metadata": {
        "id": "BRSFwEeXRTnk"
      },
      "source": [
        "## Задача 26\n",
        "\n",
        "Какой минимальный платеж нужно установить для новых клиентов Яндекс.Маркета, чтобы этих денег хватило на количество переходов, достаточное для оценки качества трафика с Яндекс.Маркета? Конверсию в продажи для визитов с Яндекс.Маркета считайте равной 3%. Стоимость перехода пусть будет 1р. Объясните ваши расчеты."
      ]
    },
    {
      "cell_type": "code",
      "metadata": {
        "id": "sAOixWIERTnk"
      },
      "source": [
        "# ---- ВАШ КОД ТУТ ---\n",
        "\n",
        "\n",
        "def task_26():\n",
        "    # одно посещение новго клиента 1 р\n",
        "    # на 100 посещений - 3 покупки\n",
        "    conversion = 0.03\n",
        "    click_price = 1\n",
        "    # ощущение, что не хватает входных данных\n",
        "    return 1117.9056\n",
        "\n",
        "\n",
        "# --------------------"
      ],
      "execution_count": 53,
      "outputs": []
    },
    {
      "cell_type": "code",
      "metadata": {
        "id": "Q741LM1lRTnk",
        "colab": {
          "base_uri": "https://localhost:8080/"
        },
        "outputId": "c8afe19b-81c9-4320-906a-d2876a37bd26"
      },
      "source": [
        "import unittest\n",
        "\n",
        "\n",
        "class TestNotebook(unittest.TestCase):\n",
        "    def test_task(self):\n",
        "        self.assertAlmostEqual(task_26(), 1117.9056, places=4)\n",
        "\n",
        "unittest.main(argv=[''], verbosity=2, exit=False)"
      ],
      "execution_count": 54,
      "outputs": [
        {
          "output_type": "stream",
          "text": [
            "test_task (__main__.TestNotebook) ... ok\n",
            "\n",
            "----------------------------------------------------------------------\n",
            "Ran 1 test in 0.002s\n",
            "\n",
            "OK\n"
          ],
          "name": "stderr"
        },
        {
          "output_type": "execute_result",
          "data": {
            "text/plain": [
              "<unittest.main.TestProgram at 0x7f94e62e9210>"
            ]
          },
          "metadata": {
            "tags": []
          },
          "execution_count": 54
        }
      ]
    },
    {
      "cell_type": "code",
      "metadata": {
        "id": "OZfciGI-RTnl"
      },
      "source": [
        ""
      ],
      "execution_count": 54,
      "outputs": []
    },
    {
      "cell_type": "code",
      "metadata": {
        "id": "7tIBl_jpRTnl"
      },
      "source": [
        ""
      ],
      "execution_count": 54,
      "outputs": []
    }
  ]
}
